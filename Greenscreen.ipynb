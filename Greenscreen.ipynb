{
  "nbformat": 4,
  "nbformat_minor": 0,
  "metadata": {
    "colab": {
      "provenance": []
    },
    "kernelspec": {
      "name": "python3",
      "display_name": "Python 3"
    },
    "language_info": {
      "name": "python"
    }
  },
  "cells": [
    {
      "cell_type": "code",
      "execution_count": null,
      "metadata": {
        "colab": {
          "base_uri": "https://localhost:8080/"
        },
        "id": "W0E593q_0e18",
        "outputId": "1e89d9fc-08da-4b28-e691-490c418ced66"
      },
      "outputs": [
        {
          "output_type": "stream",
          "name": "stdout",
          "text": [
            "/content\n",
            "/usr/local/lib/python3.10/dist-packages/gdown/cli.py:121: FutureWarning: Option `--id` was deprecated in version 4.3.1 and will be removed in 5.0. You don't need to pass it anymore to use a file ID.\n",
            "  warnings.warn(\n",
            "Downloading...\n",
            "From: https://drive.google.com/uc?id=1Nl6lu0YJru3gI-KVSihQ78IzWj9adL_g\n",
            "To: /content/pretrained_models.zip\n",
            " 95% 622M/657M [00:09<00:00, 75.3MB/s]"
          ]
        }
      ],
      "source": [
        "%cd /content\n",
        "# Download pretrained model\n",
        "!gdown --id 1Nl6lu0YJru3gI-KVSihQ78IzWj9adL_g\n",
        "# Unzip the downloaded file\n",
        "\n",
        "!unzip pretrained_models.zip -d pretrained_models\n",
        "\n",
        "# Download the dataset\n",
        "#!gdown --id 1fS-uh2Fi0APygd0NPjqfT7jCwUu_a_Xu\n",
        "# Unzip the downloaded file\n",
        "#!unzip Composition-1k-testset.zip -d Composition-1k-Testset\n"
      ]
    },
    {
      "cell_type": "code",
      "source": [
        "# Clone the repository\n",
        "!git clone https://github.com/cnnlstm/DiffusionMat.git\n",
        "\n",
        "# Move into the cloned directory\n",
        "%cd DiffusionMat\n",
        "\n",
        "# Install dependencies using conda\n",
        "!conda env create -f diffusionmat.yaml\n",
        "\n",
        "# Activate the conda environment\n",
        "!conda activate diffusionmat\n"
      ],
      "metadata": {
        "id": "G5rl5o3s0sEl",
        "colab": {
          "base_uri": "https://localhost:8080/"
        },
        "outputId": "22b78931-36df-4919-9ce1-28e978991db3"
      },
      "execution_count": 2,
      "outputs": [
        {
          "output_type": "stream",
          "name": "stdout",
          "text": [
            "Cloning into 'DiffusionMat'...\n",
            "remote: Enumerating objects: 1089, done.\u001b[K\n",
            "remote: Counting objects: 100% (18/18), done.\u001b[K\n",
            "remote: Compressing objects: 100% (12/12), done.\u001b[K\n",
            "remote: Total 1089 (delta 8), reused 14 (delta 4), pack-reused 1071\u001b[K\n",
            "Receiving objects: 100% (1089/1089), 596.00 MiB | 42.25 MiB/s, done.\n",
            "Resolving deltas: 100% (21/21), done.\n",
            "Updating files: 100% (1059/1059), done.\n",
            "/content/DiffusionMat\n",
            "/bin/bash: line 1: conda: command not found\n",
            "/bin/bash: line 1: conda: command not found\n"
          ]
        }
      ]
    },
    {
      "cell_type": "code",
      "source": [
        "!curl -s https://raw.githubusercontent.com/Lucascoolsouza/DiffusionMatColab/main/requirements.txt --output requirements.txt\n",
        "!pip install -r requirements.txt\n",
        "!pip install einops \\\n",
        "    absl-py==1.3.0 \\\n",
        "    appdirs==1.4.4 \\\n",
        "    backcall==0.2.0 \\\n",
        "    beautifulsoup4==4.11.1 \\\n",
        "    cachetools==4.2.4 \\\n",
        "    #channelnorm-cuda \\\n",
        "    charset-normalizer==2.0.12 \\\n",
        "    click==8.0.4 \\\n",
        "    clip==1.0 \\\n",
        "    correlation-cuda==0.0.0 \\\n",
        "    cycler==0.11.0 \\\n",
        "    cython==0.29.33 \\\n",
        "    dataclasses==0.8 \\\n",
        "    decorator==4.4.2 \\\n",
        "    dnnlib==0.0.1 \\\n",
        "    docker-pycreds==0.4.0 \\\n",
        "    einops==0.4.1 \\\n",
        "    face-alignment==1.3.5 \\\n",
        "    fastrlock==0.8 \\\n",
        "    filelock==3.4.1 \\\n",
        "    ftfy==6.0.3 \\\n",
        "    gdown==4.2.0 \\\n",
        "    gitdb==4.0.9 \\\n",
        "    gitpython==3.1.18 \\\n",
        "    google-auth==1.35.0 \\\n",
        "    google-auth-oauthlib==0.4.6 \\\n",
        "    grpcio==1.48.2 \\\n",
        "    huggingface-hub==0.4.0 \\\n",
        "    idna==3.4 \\\n",
        "    imageio==2.9.0 \\\n",
        "    imageio-ffmpeg==0.4.3 \\\n",
        "    importlib-metadata==4.8.3 \\\n",
        "    ipython==7.16.3 \\\n",
        "    ipython-genutils==0.2.0 \\\n",
        "    jedi==0.17.2 \\\n",
        "    joblib==1.1.1 \\\n",
        "    kiwisolver==1.3.1 \\\n",
        "    cohere \\\n",
        "    openai \\\n",
        "    tiktoken \\\n",
        "    llvmlite==0.36.0 \\\n",
        "    lpips==0.1.4 \\\n",
        "    markdown==3.3.7 \\\n",
        "    matplotlib==3.2.1 \\\n",
        "    mypy-extensions==0.4.3 \\\n",
        "    networkx==2.5.1 \\\n",
        "    numba==0.53.1 \\\n",
        "    oauthlib==3.2.2 \\\n",
        "    opencv-python==4.2.0.34 \\\n",
        "    packaging==21.3 \\\n",
        "    parso==0.7.1 \\\n",
        "    pathtools==0.1.2 \\\n",
        "    pexpect==4.8.0 \\\n",
        "    pickleshare==0.7.5 \\\n",
        "    pillow==7.1.2 \\\n",
        "    prompt-toolkit==3.0.31 \\\n",
        "    protobuf==3.19.6 \\\n",
        "    psutil==5.9.4 \\\n",
        "    ptyprocess==0.7.0 \\\n",
        "    pyasn1==0.4.8 \\\n",
        "    pyasn1-modules==0.2.8 \\\n",
        "    pygments==2.13.0 \\\n",
        "    pyparsing==3.0.7 \\\n",
        "    pyrallis==0.2.2 \\\n",
        "    pysocks==1.7.1 \\\n",
        "    python-dateutil==2.8.2 \\\n",
        "    pywavelets==1.1.1 \\\n",
        "    pyyaml==6.0 \\\n",
        "    regex==2022.9.13 \\\n",
        "    requests==2.27.1 \\\n",
        "    requests-oauthlib==1.3.1 \\\n",
        "    resample2d-cuda==0.0.0 \\\n",
        "    rsa==4.9 \\\n",
        "    scikit-image==0.17.2 \\\n",
        "    scikit-learn==0.24.2 \\\n",
        "    scipy==1.4.1 \\\n",
        "    sentry-sdk==1.16.0 \\\n",
        "    setproctitle==1.2.3 \\\n",
        "    six==1.16.0 \\\n",
        "    smmap==5.0.0 \\\n",
        "    soupsieve==2.3.2.post1 \\\n",
        "    tensorboard==2.2.1 \\\n",
        "    tensorboard-plugin-wit==1.8.1 \\\n",
        "    tensorboardx==2.5.1 \\\n",
        "    threadpoolctl==3.1.0 \\\n",
        "    tifffile==2020.9.3 \\\n",
        "    timm==0.6.12 \\\n",
        "    torch==1.10.0+cu111 \\\n",
        "    torchaudio==0.10.0+rocm4.1 \\\n",
        "    torchvision==0.11.0+cu111 \\\n",
        "    tqdm==4.46.0 \\\n",
        "    timm==0.6.12 \\\n",
        "    traitlets==4.3.3 \\\n",
        "    typing-extensions==4.1.1 \\\n",
        "    typing-inspect==0.8.0 \\\n",
        "    urllib3==1.26.12 \\\n",
        "    wandb==0.13.10 \\\n",
        "    wcwidth==0.2.5 \\\n",
        "    werkzeug==2.0.3 \\\n",
        "    zipp==3.6.0\n"
      ],
      "metadata": {
        "colab": {
          "base_uri": "https://localhost:8080/"
        },
        "id": "5rTNCeyd37Yx",
        "outputId": "8abdd3cf-3b3f-4417-b6d3-b8cdd7138c8e"
      },
      "execution_count": 29,
      "outputs": [
        {
          "output_type": "stream",
          "name": "stdout",
          "text": [
            "Requirement already satisfied: einops in /usr/local/lib/python3.10/dist-packages (0.7.0)\n",
            "Requirement already satisfied: absl-py==1.3.0 in /usr/local/lib/python3.10/dist-packages (1.3.0)\n",
            "Requirement already satisfied: appdirs==1.4.4 in /usr/local/lib/python3.10/dist-packages (1.4.4)\n",
            "Requirement already satisfied: backcall==0.2.0 in /usr/local/lib/python3.10/dist-packages (0.2.0)\n",
            "Requirement already satisfied: beautifulsoup4==4.11.1 in /usr/local/lib/python3.10/dist-packages (4.11.1)\n",
            "Requirement already satisfied: cachetools==4.2.4 in /usr/local/lib/python3.10/dist-packages (4.2.4)\n",
            "Requirement already satisfied: soupsieve>1.2 in /usr/local/lib/python3.10/dist-packages (from beautifulsoup4==4.11.1) (2.5)\n"
          ]
        }
      ]
    },
    {
      "cell_type": "code",
      "source": [
        "# Run inference on Google Colab\n",
        "%cd /content/DiffusionMat\n",
        "!python inference.py --exp inference_dir --config matte.yml --delta_config deltablock.yml --sample -i images --t 250 --sample_step 5 --ni"
      ],
      "metadata": {
        "colab": {
          "base_uri": "https://localhost:8080/"
        },
        "id": "wNIySrDU18_a",
        "outputId": "0a162b20-efc3-45f2-f0c6-ba2540e7818d"
      },
      "execution_count": 30,
      "outputs": [
        {
          "output_type": "stream",
          "name": "stdout",
          "text": [
            "/content/DiffusionMat\n",
            "Traceback (most recent call last):\n",
            "  File \"/content/DiffusionMat/inference.py\", line 14, in <module>\n",
            "    from runners.diffusionmat_test import Diffusion\n",
            "  File \"/content/DiffusionMat/runners/diffusionmat_test.py\", line 21, in <module>\n",
            "    from networks_swtu.vision_transformer import SwinUnet\n",
            "  File \"/content/DiffusionMat/networks_swtu/vision_transformer.py\", line 19, in <module>\n",
            "    from networks_swtu.swin_transformer_unet_skip_expand_decoder_sys import SwinTransformerSys\n",
            "  File \"/content/DiffusionMat/networks_swtu/swin_transformer_unet_skip_expand_decoder_sys.py\", line 5, in <module>\n",
            "    from timm.models.layers import DropPath, to_2tuple, trunc_normal_\n",
            "ModuleNotFoundError: No module named 'timm'\n"
          ]
        }
      ]
    }
  ]
}