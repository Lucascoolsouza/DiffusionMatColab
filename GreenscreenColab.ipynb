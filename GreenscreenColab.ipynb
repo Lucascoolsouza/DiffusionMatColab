{
  "nbformat": 4,
  "nbformat_minor": 0,
  "metadata": {
    "colab": {
      "provenance": [],
      "gpuType": "T4"
    },
    "kernelspec": {
      "name": "python3",
      "display_name": "Python 3"
    },
    "language_info": {
      "name": "python"
    },
    "accelerator": "GPU"
  },
  "cells": [
    {
      "cell_type": "code",
      "execution_count": 8,
      "metadata": {
        "colab": {
          "base_uri": "https://localhost:8080/"
        },
        "id": "W0E593q_0e18",
        "outputId": "1641119d-d34b-4a3b-b887-90fd08aa6a16"
      },
      "outputs": [
        {
          "output_type": "stream",
          "name": "stdout",
          "text": [
            "/content\n",
            "/usr/local/lib/python3.10/dist-packages/gdown/cli.py:121: FutureWarning: Option `--id` was deprecated in version 4.3.1 and will be removed in 5.0. You don't need to pass it anymore to use a file ID.\n",
            "  warnings.warn(\n",
            "Downloading...\n",
            "From: https://drive.google.com/uc?id=1Nl6lu0YJru3gI-KVSihQ78IzWj9adL_g\n",
            "To: /content/pretrained_models.zip\n",
            "100% 657M/657M [00:05<00:00, 117MB/s]\n",
            "Archive:  pretrained_models.zip\n",
            "  inflating: /content/pretrained_models/ckpt_adobe.pth  \n",
            "  inflating: /content/pretrained_models/ckpt_diffusion.pt  \n",
            "  inflating: /content/pretrained_models/swin_tiny_patch4_window7_224.pth  \n"
          ]
        }
      ],
      "source": [
        "%cd /content\n",
        "# Download pretrained model\n",
        "!gdown --id 1Nl6lu0YJru3gI-KVSihQ78IzWj9adL_g\n",
        "# Unzip the downloaded file\n",
        "\n",
        "!unzip pretrained_models.zip -d /content\n",
        "\n",
        "# Download the dataset\n",
        "!gdown --id 1fS-uh2Fi0APygd0NPjqfT7jCwUu_a_Xu\n",
        "# Unzip the downloaded file\n",
        "!unzip Composition-1k-testset.zip -d content\n"
      ]
    },
    {
      "cell_type": "code",
      "source": [
        "# Clone the repository\n",
        "!git clone https://github.com/Lucascoolsouza/DiffusionMatColab\n",
        "\n",
        "# Move into the cloned directory\n",
        "%cd DiffusionMat"
      ],
      "metadata": {
        "id": "G5rl5o3s0sEl",
        "colab": {
          "base_uri": "https://localhost:8080/"
        },
        "outputId": "5904e4ee-b96c-4b22-ead1-5d744193660d"
      },
      "execution_count": 2,
      "outputs": [
        {
          "output_type": "stream",
          "name": "stdout",
          "text": [
            "Cloning into 'DiffusionMat'...\n",
            "remote: Enumerating objects: 1089, done.\u001b[K\n",
            "remote: Counting objects: 100% (18/18), done.\u001b[K\n",
            "remote: Compressing objects: 100% (12/12), done.\u001b[K\n",
            "remote: Total 1089 (delta 8), reused 14 (delta 4), pack-reused 1071\u001b[K\n",
            "Receiving objects: 100% (1089/1089), 596.00 MiB | 25.26 MiB/s, done.\n",
            "Resolving deltas: 100% (21/21), done.\n",
            "Updating files: 100% (1059/1059), done.\n",
            "/content/DiffusionMat\n",
            "/bin/bash: line 1: conda: command not found\n",
            "/bin/bash: line 1: conda: command not found\n"
          ]
        }
      ]
    },
    {
      "cell_type": "code",
      "source": [
        "!curl -s https://raw.githubusercontent.com/Lucascoolsouza/DiffusionMatColab/main/requirements.txt --output requirements.txt\n",
        "!pip install -r requirements.txt\n",
        "!pip install einops \\\n",
        "    absl-py==1.3.0 \\\n",
        "    appdirs==1.4.4 \\\n",
        "    backcall==0.2.0 \\\n",
        "    beautifulsoup4==4.11.1 \\\n",
        "    cachetools==4.2.4 \\\n",
        "    #channelnorm-cuda \\\n",
        "    charset-normalizer==2.0.12 \\\n",
        "    click==8.0.4 \\\n",
        "    clip==1.0 \\\n",
        "    correlation-cuda==0.0.0 \\\n",
        "    cycler==0.11.0 \\\n",
        "    cython==0.29.33 \\\n",
        "    dataclasses==0.8 \\\n",
        "    decorator==4.4.2 \\\n",
        "    dnnlib==0.0.1 \\\n",
        "    docker-pycreds==0.4.0 \\\n",
        "    einops==0.4.1 \\\n",
        "    face-alignment==1.3.5 \\\n",
        "    fastrlock==0.8 \\\n",
        "    filelock==3.4.1 \\\n",
        "    ftfy==6.0.3 \\\n",
        "    gdown==4.2.0 \\\n",
        "    gitdb==4.0.9 \\\n",
        "    gitpython==3.1.18 \\\n",
        "    google-auth==1.35.0 \\\n",
        "    google-auth-oauthlib==0.4.6 \\\n",
        "    grpcio==1.48.2 \\\n",
        "    huggingface-hub==0.4.0 \\\n",
        "    idna==3.4 \\\n",
        "    imageio==2.9.0 \\\n",
        "    imageio-ffmpeg==0.4.3 \\\n",
        "    importlib-metadata==4.8.3 \\\n",
        "    ipython==7.16.3 \\\n",
        "    ipython-genutils==0.2.0 \\\n",
        "    jedi==0.17.2 \\\n",
        "    joblib==1.1.1 \\\n",
        "    kiwisolver==1.3.1 \\\n",
        "    cohere \\\n",
        "    openai \\\n",
        "    tiktoken \\\n",
        "    llvmlite==0.36.0 \\\n",
        "    lpips==0.1.4 \\\n",
        "    markdown==3.3.7 \\\n",
        "    matplotlib==3.2.1 \\\n",
        "    mypy-extensions==0.4.3 \\\n",
        "    networkx==2.5.1 \\\n",
        "    numba==0.53.1 \\\n",
        "    oauthlib==3.2.2 \\\n",
        "    opencv-python==4.2.0.34 \\\n",
        "    packaging==21.3 \\\n",
        "    parso==0.7.1 \\\n",
        "    pathtools==0.1.2 \\\n",
        "    pexpect==4.8.0 \\\n",
        "    pickleshare==0.7.5 \\\n",
        "    pillow==7.1.2 \\\n",
        "    prompt-toolkit==3.0.31 \\\n",
        "    protobuf==3.19.6 \\\n",
        "    psutil==5.9.4 \\\n",
        "    ptyprocess==0.7.0 \\\n",
        "    pyasn1==0.4.8 \\\n",
        "    pyasn1-modules==0.2.8 \\\n",
        "    pygments==2.13.0 \\\n",
        "    pyparsing==3.0.7 \\\n",
        "    pyrallis==0.2.2 \\\n",
        "    pysocks==1.7.1 \\\n",
        "    python-dateutil==2.8.2 \\\n",
        "    pywavelets==1.1.1 \\\n",
        "    pyyaml==6.0 \\\n",
        "    regex==2022.9.13 \\\n",
        "    requests==2.27.1 \\\n",
        "    requests-oauthlib==1.3.1 \\\n",
        "    resample2d-cuda==0.0.0 \\\n",
        "    rsa==4.9 \\\n",
        "    scikit-image==0.17.2 \\\n",
        "    scikit-learn==0.24.2 \\\n",
        "    scipy==1.4.1 \\\n",
        "    sentry-sdk==1.16.0 \\\n",
        "    setproctitle==1.2.3 \\\n",
        "    six==1.16.0 \\\n",
        "    smmap==5.0.0 \\\n",
        "    soupsieve==2.3.2.post1 \\\n",
        "    tensorboard==2.2.1 \\\n",
        "    tensorboard-plugin-wit==1.8.1 \\\n",
        "    tensorboardx==2.5.1 \\\n",
        "    threadpoolctl==3.1.0 \\\n",
        "    tifffile==2020.9.3 \\\n",
        "    timm==0.6.12 \\\n",
        "    torch==1.10.0+cu111 \\\n",
        "    torchaudio==0.10.0+rocm4.1 \\\n",
        "    torchvision==0.11.0+cu111 \\\n",
        "    tqdm==4.46.0 \\\n",
        "    timm==0.6.12 \\\n",
        "    traitlets==4.3.3 \\\n",
        "    typing-extensions==4.1.1 \\\n",
        "    typing-inspect==0.8.0 \\\n",
        "    urllib3==1.26.12 \\\n",
        "    wandb==0.13.10 \\\n",
        "    wcwidth==0.2.5 \\\n",
        "    werkzeug==2.0.3 \\\n",
        "    zipp==3.6.0\n"
      ],
      "metadata": {
        "colab": {
          "base_uri": "https://localhost:8080/"
        },
        "id": "5rTNCeyd37Yx",
        "outputId": "243ac39a-38f8-4af3-83a9-84c673e621a0"
      },
      "execution_count": 4,
      "outputs": [
        {
          "output_type": "stream",
          "name": "stdout",
          "text": [
            "Requirement already satisfied: einops in /usr/local/lib/python3.10/dist-packages (0.7.0)\n",
            "Requirement already satisfied: absl-py==1.3.0 in /usr/local/lib/python3.10/dist-packages (1.3.0)\n",
            "Requirement already satisfied: appdirs==1.4.4 in /usr/local/lib/python3.10/dist-packages (1.4.4)\n",
            "Requirement already satisfied: backcall==0.2.0 in /usr/local/lib/python3.10/dist-packages (0.2.0)\n",
            "Requirement already satisfied: beautifulsoup4==4.11.1 in /usr/local/lib/python3.10/dist-packages (4.11.1)\n",
            "Requirement already satisfied: cachetools==4.2.4 in /usr/local/lib/python3.10/dist-packages (4.2.4)\n",
            "Requirement already satisfied: soupsieve>1.2 in /usr/local/lib/python3.10/dist-packages (from beautifulsoup4==4.11.1) (2.5)\n"
          ]
        }
      ]
    },
    {
      "cell_type": "code",
      "source": [
        "!pip install timm==0.6.12\n",
        "import timm"
      ],
      "metadata": {
        "colab": {
          "base_uri": "https://localhost:8080/"
        },
        "id": "wgPhiKEO89H1",
        "outputId": "42886cca-e545-446b-aa12-d32df8d20f6f"
      },
      "execution_count": 6,
      "outputs": [
        {
          "output_type": "stream",
          "name": "stdout",
          "text": [
            "Collecting timm==0.6.12\n",
            "  Downloading timm-0.6.12-py3-none-any.whl (549 kB)\n",
            "\u001b[2K     \u001b[90m━━━━━━━━━━━━━━━━━━━━━━━━━━━━━━━━━━━━━━━━\u001b[0m \u001b[32m549.1/549.1 kB\u001b[0m \u001b[31m8.7 MB/s\u001b[0m eta \u001b[36m0:00:00\u001b[0m\n",
            "\u001b[?25hRequirement already satisfied: torch>=1.7 in /usr/local/lib/python3.10/dist-packages (from timm==0.6.12) (2.1.0+cu118)\n",
            "Requirement already satisfied: torchvision in /usr/local/lib/python3.10/dist-packages (from timm==0.6.12) (0.16.0+cu118)\n",
            "Requirement already satisfied: pyyaml in /usr/local/lib/python3.10/dist-packages (from timm==0.6.12) (6.0.1)\n",
            "Requirement already satisfied: huggingface-hub in /usr/local/lib/python3.10/dist-packages (from timm==0.6.12) (0.19.4)\n",
            "Requirement already satisfied: filelock in /usr/local/lib/python3.10/dist-packages (from torch>=1.7->timm==0.6.12) (3.13.1)\n",
            "Requirement already satisfied: typing-extensions in /usr/local/lib/python3.10/dist-packages (from torch>=1.7->timm==0.6.12) (4.5.0)\n",
            "Requirement already satisfied: sympy in /usr/local/lib/python3.10/dist-packages (from torch>=1.7->timm==0.6.12) (1.12)\n",
            "Requirement already satisfied: networkx in /usr/local/lib/python3.10/dist-packages (from torch>=1.7->timm==0.6.12) (3.2.1)\n",
            "Requirement already satisfied: jinja2 in /usr/local/lib/python3.10/dist-packages (from torch>=1.7->timm==0.6.12) (3.1.2)\n",
            "Requirement already satisfied: fsspec in /usr/local/lib/python3.10/dist-packages (from torch>=1.7->timm==0.6.12) (2023.6.0)\n",
            "Requirement already satisfied: triton==2.1.0 in /usr/local/lib/python3.10/dist-packages (from torch>=1.7->timm==0.6.12) (2.1.0)\n",
            "Requirement already satisfied: requests in /usr/local/lib/python3.10/dist-packages (from huggingface-hub->timm==0.6.12) (2.31.0)\n",
            "Requirement already satisfied: tqdm>=4.42.1 in /usr/local/lib/python3.10/dist-packages (from huggingface-hub->timm==0.6.12) (4.66.1)\n",
            "Requirement already satisfied: packaging>=20.9 in /usr/local/lib/python3.10/dist-packages (from huggingface-hub->timm==0.6.12) (23.2)\n",
            "Requirement already satisfied: numpy in /usr/local/lib/python3.10/dist-packages (from torchvision->timm==0.6.12) (1.23.5)\n",
            "Requirement already satisfied: pillow!=8.3.*,>=5.3.0 in /usr/local/lib/python3.10/dist-packages (from torchvision->timm==0.6.12) (9.4.0)\n",
            "Requirement already satisfied: MarkupSafe>=2.0 in /usr/local/lib/python3.10/dist-packages (from jinja2->torch>=1.7->timm==0.6.12) (2.1.3)\n",
            "Requirement already satisfied: charset-normalizer<4,>=2 in /usr/local/lib/python3.10/dist-packages (from requests->huggingface-hub->timm==0.6.12) (3.3.2)\n",
            "Requirement already satisfied: idna<4,>=2.5 in /usr/local/lib/python3.10/dist-packages (from requests->huggingface-hub->timm==0.6.12) (3.4)\n",
            "Requirement already satisfied: urllib3<3,>=1.21.1 in /usr/local/lib/python3.10/dist-packages (from requests->huggingface-hub->timm==0.6.12) (2.0.7)\n",
            "Requirement already satisfied: certifi>=2017.4.17 in /usr/local/lib/python3.10/dist-packages (from requests->huggingface-hub->timm==0.6.12) (2023.7.22)\n",
            "Requirement already satisfied: mpmath>=0.19 in /usr/local/lib/python3.10/dist-packages (from sympy->torch>=1.7->timm==0.6.12) (1.3.0)\n",
            "Installing collected packages: timm\n",
            "Successfully installed timm-0.6.12\n"
          ]
        }
      ]
    },
    {
      "cell_type": "code",
      "source": [
        "# Run inference on Google Colab\n",
        "%cd /content/DiffusionMatColab\n",
        "!python inference.py --exp inference_dir --config matte.yml --delta_config deltablock.yml --sample -i images --t 250 --sample_step 5 --ni"
      ],
      "metadata": {
        "colab": {
          "base_uri": "https://localhost:8080/"
        },
        "id": "wNIySrDU18_a",
        "outputId": "e74a15a0-a783-4b58-e851-4e3b734fce01"
      },
      "execution_count": 13,
      "outputs": [
        {
          "output_type": "stream",
          "name": "stdout",
          "text": [
            "/content/DiffusionMat\n",
            "INFO - inference.py - 2023-11-29 16:45:48,299 - Using device: cpu\n",
            "Namespace(data=Namespace(dataset='Matting', image_size=256, channels=1, logit_transform=False, uniform_dequantization=False, gaussian_dequantization=False, random_flip=True, rescaled=True, num_workers=32), model=Namespace(type='simple', in_channels=1, out_ch=1, ch=128, ch_mult=[1, 1, 2, 2, 4, 4], num_res_blocks=2, dropout=0.0, var_type='fixedsmall', ema_rate=0.999, ema=True, resamp_with_conv=True), diffusion=Namespace(beta_schedule='linear', beta_start=0.0001, beta_end=0.02, num_diffusion_timesteps=1000), training=Namespace(batch_size=9, n_epochs=15000, n_iters=5000000, snapshot_freq=5000, validation_freq=2000), sampling=Namespace(batch_size=30, last_only=True), optim=Namespace(weight_decay=0.0, optimizer='Adam', lr=0.0001, beta1=0.9, amsgrad=False, eps=1e-08), device=device(type='cpu'))\n",
            "Namespace(data=Namespace(dataset='PortMatting', category='PortMatting', image_size=256, channels=1, logit_transform=False, uniform_dequantization=False, gaussian_dequantization=False, random_flip=True, rescaled=True, num_workers=0), model=Namespace(type='simple', in_channels=4, out_ch=1, ch=64, num_res_blocks=2, ch_mult=[1, 1, 2, 2, 4, 4], dropout=0.0, var_type='fixedsmall', ema_rate=0.999, ema=True, resamp_with_conv=True), diffusion=Namespace(beta_schedule='linear', beta_start=0.0001, beta_end=0.02, num_diffusion_timesteps=500), training=Namespace(batch_size=8, last_only=True), optim=Namespace(weight_decay=0.0, optimizer='Adam', lr=0.0001, beta1=0.5, amsgrad=False, eps=1e-08))\n",
            ">>>>>>>>>>>>>>>>>>>>>>>>>>>>>>>>>>>>>>>>>>>>>>>>>>>>>>>>>>>>>>>>>>>>>>>>>>>>>>>>\n",
            "INFO - inference.py - 2023-11-29 16:45:48,300 - Exp instance id = 2518\n",
            "INFO - inference.py - 2023-11-29 16:45:48,300 - Exp comment = \n",
            "INFO - inference.py - 2023-11-29 16:45:48,300 - Config =\n",
            "<<<<<<<<<<<<<<<<<<<<<<<<<<<<<<<<<<<<<<<<<<<<<<<<<<<<<<<<<<<<<<<<<<<<<<<<<<<<<<<<\n",
            "ERROR - inference.py - 2023-11-29 16:45:49,370 - Traceback (most recent call last):\n",
            "  File \"/content/DiffusionMat/inference.py\", line 109, in main\n",
            "    runner.image_matting_train()\n",
            "  File \"/content/DiffusionMat/runners/diffusionmat_test.py\", line 150, in image_matting_train\n",
            "    ckpt = torch.load(\"/content/pretrained_models/ckpt_diffusion.pt\")['net_model']\n",
            "  File \"/usr/local/lib/python3.10/dist-packages/torch/serialization.py\", line 1014, in load\n",
            "    return _load(opened_zipfile,\n",
            "  File \"/usr/local/lib/python3.10/dist-packages/torch/serialization.py\", line 1422, in _load\n",
            "    result = unpickler.load()\n",
            "  File \"/usr/local/lib/python3.10/dist-packages/torch/serialization.py\", line 1392, in persistent_load\n",
            "    typed_storage = load_tensor(dtype, nbytes, key, _maybe_decode_ascii(location))\n",
            "  File \"/usr/local/lib/python3.10/dist-packages/torch/serialization.py\", line 1366, in load_tensor\n",
            "    wrap_storage=restore_location(storage, location),\n",
            "  File \"/usr/local/lib/python3.10/dist-packages/torch/serialization.py\", line 381, in default_restore_location\n",
            "    result = fn(storage, location)\n",
            "  File \"/usr/local/lib/python3.10/dist-packages/torch/serialization.py\", line 274, in _cuda_deserialize\n",
            "    device = validate_cuda_device(location)\n",
            "  File \"/usr/local/lib/python3.10/dist-packages/torch/serialization.py\", line 258, in validate_cuda_device\n",
            "    raise RuntimeError('Attempting to deserialize object on a CUDA '\n",
            "RuntimeError: Attempting to deserialize object on a CUDA device but torch.cuda.is_available() is False. If you are running on a CPU-only machine, please use torch.load with map_location=torch.device('cpu') to map your storages to the CPU.\n",
            "\n"
          ]
        }
      ]
    }
  ]
}
